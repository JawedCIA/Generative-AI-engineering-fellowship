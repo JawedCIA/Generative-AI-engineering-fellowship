{
 "cells": [
  {
   "cell_type": "markdown",
   "id": "f8ab8189",
   "metadata": {},
   "source": [
    "Data Generation"
   ]
  },
  {
   "cell_type": "code",
   "execution_count": null,
   "id": "d5e053b6",
   "metadata": {},
   "outputs": [],
   "source": [
    "import pandas as pd\n",
    "import numpy as np\n",
    "import random\n"
   ]
  },
  {
   "cell_type": "code",
   "execution_count": null,
   "id": "717ec8ea",
   "metadata": {},
   "outputs": [],
   "source": [
    "\n",
    "# Set random seed for reproducibility\n",
    "np.random.seed(42)\n",
    "\n",
    "# Create a sample movie dataset\n",
    "n_movies = 150"
   ]
  },
  {
   "cell_type": "code",
   "execution_count": null,
   "id": "dcdc4911",
   "metadata": {},
   "outputs": [],
   "source": [
    "adjectives = [\n",
    "    \"Dark\", \"Silent\", \"Broken\", \"Hidden\", \"Crimson\", \"Lost\", \"Burning\",\n",
    "    \"Frozen\", \"Electric\", \"Golden\", \"Whispering\", \"Midnight\", \"Secret\"\n",
    "]\n",
    "nouns = [\n",
    "    \"Horizon\", \"Journey\", \"Echo\", \"Legacy\", \"Empire\", \"Shadow\", \"Promise\",\n",
    "    \"Reckoning\", \"Odyssey\", \"Whisper\", \"Revenge\", \"Quest\", \"Dimension\"\n",
    "]\n",
    "\n",
    "# Generate titles by sampling adjective + noun\n",
    "titles = []\n",
    "while len(titles) < n_movies:\n",
    "    title = f\"{random.choice(adjectives)} {random.choice(nouns)}\"\n",
    "    if title not in titles:\n",
    "        titles.append(title)"
   ]
  },
  {
   "cell_type": "code",
   "execution_count": null,
   "id": "f05b0b59",
   "metadata": {},
   "outputs": [],
   "source": [
    "from faker import Faker\n",
    "fake = Faker()\n",
    "titles = [fake.catch_phrase() for _ in range(n_movies)]"
   ]
  },
  {
   "cell_type": "code",
   "execution_count": 6,
   "id": "15912a73",
   "metadata": {},
   "outputs": [
    {
     "name": "stdout",
     "output_type": "stream",
     "text": [
      "              Title  Year     Genre  Runtime  Budget  BoxOffice  \\\n",
      "0  Frozen Reckoning  2018  Thriller    169.0   121.0      323.1   \n",
      "1    Golden Journey  2004   Romance    173.0    47.4       69.7   \n",
      "2      Hidden Quest  1997    Sci-Fi    134.0   111.3      128.9   \n",
      "3         Lost Echo  2010   Romance    171.0   102.6      217.8   \n",
      "4     Frozen Empire  2008     Drama    137.0     NaN      270.8   \n",
      "\n",
      "        Director  Rating      Country  \n",
      "0    Greta Smith     8.6           UK  \n",
      "1   Ridley Davis     9.1       Canada  \n",
      "2  Kathryn Moore     5.4        India  \n",
      "3    James Jones     4.8       Canada  \n",
      "4    Greta Jones     7.2  South Korea  \n"
     ]
    }
   ],
   "source": [
    "\n",
    "\n",
    "#print(titles[:10])\n",
    "# Generate random data\n",
    "#titles = [f\"Movie {i}\" for i in range(1, n_movies + 1)]\n",
    "years = np.random.randint(1990, 2023, n_movies)\n",
    "genres = np.random.choice(['Action', 'Comedy', 'Drama', 'Sci-Fi', 'Horror', 'Thriller', 'Romance'], n_movies)\n",
    "runtimes = np.random.randint(75, 180, n_movies)\n",
    "budgets = np.round(np.random.uniform(5, 250, n_movies), 1)  # In millions USD\n",
    "box_offices = np.round(budgets * np.random.uniform(0.5, 4, n_movies), 1)  # In millions USD\n",
    "\n",
    "directors = []\n",
    "for _ in range(n_movies):\n",
    "    first_names = ['James', 'Steven', 'Christopher', 'Martin', 'Quentin', 'David', 'Ridley', 'Sofia', 'Greta', 'Kathryn']\n",
    "    last_names = ['Smith', 'Johnson', 'Williams', 'Jones', 'Brown', 'Davis', 'Miller', 'Wilson', 'Moore', 'Taylor']\n",
    "    directors.append(f\"{np.random.choice(first_names)} {np.random.choice(last_names)}\")\n",
    "\n",
    "ratings = np.round(np.random.uniform(3, 9.5, n_movies), 1)\n",
    "countries = np.random.choice(['USA', 'UK', 'France', 'Japan', 'South Korea', 'India', 'Canada', 'Germany'], n_movies)\n",
    "\n",
    "# Create the DataFrame\n",
    "movies_data = pd.DataFrame({\n",
    "    'Title': titles,\n",
    "    'Year': years,\n",
    "    'Genre': genres,\n",
    "    'Runtime': runtimes,\n",
    "    'Budget': budgets,\n",
    "    'BoxOffice': box_offices,\n",
    "    'Director': directors,\n",
    "    'Rating': ratings,\n",
    "    'Country': countries\n",
    "})\n",
    "\n",
    "# Introduce some missing values\n",
    "for col in ['Runtime', 'Budget', 'BoxOffice', 'Rating']:\n",
    "    missing_indices = np.random.choice(n_movies, size=int(n_movies * 0.05), replace=False)\n",
    "    movies_data.loc[missing_indices, col] = np.nan\n",
    "\n",
    "# Display the DataFrame\n",
    "print(movies_data.head())"
   ]
  },
  {
   "cell_type": "code",
   "execution_count": 7,
   "id": "ada0cc09",
   "metadata": {},
   "outputs": [],
   "source": [
    "#Save this to csv file\n",
    "movies_data.to_csv('movie_data.csv',index=False)"
   ]
  }
 ],
 "metadata": {
  "kernelspec": {
   "display_name": "Python (genai)",
   "language": "python",
   "name": "genai"
  },
  "language_info": {
   "codemirror_mode": {
    "name": "ipython",
    "version": 3
   },
   "file_extension": ".py",
   "mimetype": "text/x-python",
   "name": "python",
   "nbconvert_exporter": "python",
   "pygments_lexer": "ipython3",
   "version": "3.12.10"
  }
 },
 "nbformat": 4,
 "nbformat_minor": 5
}
